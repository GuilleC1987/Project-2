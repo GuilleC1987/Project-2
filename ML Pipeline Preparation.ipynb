{
 "cells": [
  {
   "cell_type": "markdown",
   "metadata": {},
   "source": [
    "# ML Pipeline Preparation\n",
    "Follow the instructions below to help you create your ML pipeline.\n",
    "### 1. Import libraries and load data from database.\n",
    "- Import Python libraries\n",
    "- Load dataset from database with [`read_sql_table`](https://pandas.pydata.org/pandas-docs/stable/generated/pandas.read_sql_table.html)\n",
    "- Define feature and target variables X and Y"
   ]
  },
  {
   "cell_type": "code",
   "execution_count": 1,
   "metadata": {},
   "outputs": [
    {
     "name": "stdout",
     "output_type": "stream",
     "text": [
      "[nltk_data] Downloading package punkt to /root/nltk_data...\n",
      "[nltk_data]   Unzipping tokenizers/punkt.zip.\n",
      "[nltk_data] Downloading package wordnet to /root/nltk_data...\n",
      "[nltk_data] Downloading package averaged_perceptron_tagger to\n",
      "[nltk_data]     /root/nltk_data...\n",
      "[nltk_data]   Unzipping taggers/averaged_perceptron_tagger.zip.\n"
     ]
    }
   ],
   "source": [
    "# import libraries\n",
    "import nltk\n",
    "nltk.download(['punkt', 'wordnet', 'averaged_perceptron_tagger'])\n",
    "import re\n",
    "import numpy as np\n",
    "import pandas as pd\n",
    "import pickle\n",
    "from nltk.tokenize import word_tokenize\n",
    "from nltk.stem import WordNetLemmatizer\n",
    "from sqlalchemy import create_engine \n",
    "from sklearn.pipeline import Pipeline\n",
    "from sklearn.feature_extraction.text import CountVectorizer, TfidfTransformer\n",
    "from sklearn.model_selection import train_test_split\n",
    "from sklearn.model_selection import GridSearchCV\n",
    "from sklearn.ensemble import RandomForestClassifier \n",
    "from sklearn.multioutput import MultiOutputClassifier\n",
    "from sklearn.tree import DecisionTreeClassifier\n",
    "from sklearn.metrics import confusion_matrix\n",
    "from sklearn.metrics import classification_report"
   ]
  },
  {
   "cell_type": "code",
   "execution_count": 2,
   "metadata": {},
   "outputs": [],
   "source": [
    "# load data from database\n",
    "engine = create_engine('sqlite:///DisasterResponse.db')\n",
    "df = pd.read_sql_table('DisasterResponse', con = engine)\n",
    "X = df['message']\n",
    "y = df.iloc[:,4:]\n",
    "category_names = y.columns.values"
   ]
  },
  {
   "cell_type": "markdown",
   "metadata": {},
   "source": [
    "### 2. Write a tokenization function to process your text data"
   ]
  },
  {
   "cell_type": "code",
   "execution_count": 3,
   "metadata": {},
   "outputs": [],
   "source": [
    "url_regex = 'http[s]?://(?:[a-zA-Z]|[0-9]|[$-_@.&+]|[!*\\(\\),]|(?:%[0-9a-fA-F][0-9a-fA-F]))+'\n",
    "\n",
    "def tokenize(text):\n",
    "    detected_urls = re.findall(url_regex, text)\n",
    "    for url in detected_urls:\n",
    "        text = text.replace(url, \"urlplaceholder\")\n",
    "    \n",
    "    tokens = word_tokenize(text)\n",
    "    \n",
    "    lemmatizer = WordNetLemmatizer() \n",
    "\n",
    "    clean_tokens = []\n",
    "    for tok in tokens:    \n",
    "        clean_tok = lemmatizer.lemmatize(tok).lower().strip() \n",
    "        clean_tokens.append(clean_tok)\n",
    "    \n",
    "    return clean_tokens"
   ]
  },
  {
   "cell_type": "markdown",
   "metadata": {},
   "source": [
    "### 3. Build a machine learning pipeline\n",
    "This machine pipeline should take in the `message` column as input and output classification results on the other 36 categories in the dataset. You may find the [MultiOutputClassifier](http://scikit-learn.org/stable/modules/generated/sklearn.multioutput.MultiOutputClassifier.html) helpful for predicting multiple target variables."
   ]
  },
  {
   "cell_type": "code",
   "execution_count": 4,
   "metadata": {},
   "outputs": [],
   "source": [
    "#Using multioutputclassifier with RandomForestClassifier as estimator\n",
    "pipeline = Pipeline([\n",
    "    ('vect', CountVectorizer(tokenizer=tokenize)),\n",
    "    ('tfidf', TfidfTransformer()),\n",
    "    ('rfc', MultiOutputClassifier(RandomForestClassifier()))])"
   ]
  },
  {
   "cell_type": "markdown",
   "metadata": {},
   "source": [
    "### 4. Train pipeline\n",
    "- Split data into train and test sets\n",
    "- Train pipeline"
   ]
  },
  {
   "cell_type": "code",
   "execution_count": 5,
   "metadata": {},
   "outputs": [],
   "source": [
    "#Splitting X an Y\n",
    "X_train, X_test, Y_train, Y_test = train_test_split(X, y)\n",
    "model = pipeline"
   ]
  },
  {
   "cell_type": "code",
   "execution_count": 6,
   "metadata": {},
   "outputs": [
    {
     "data": {
      "text/plain": [
       "Pipeline(memory=None,\n",
       "     steps=[('vect', CountVectorizer(analyzer='word', binary=False, decode_error='strict',\n",
       "        dtype=<class 'numpy.int64'>, encoding='utf-8', input='content',\n",
       "        lowercase=True, max_df=1.0, max_features=None, min_df=1,\n",
       "        ngram_range=(1, 1), preprocessor=None, stop_words=None,\n",
       "        strip...oob_score=False, random_state=None, verbose=0,\n",
       "            warm_start=False),\n",
       "           n_jobs=1))])"
      ]
     },
     "execution_count": 6,
     "metadata": {},
     "output_type": "execute_result"
    }
   ],
   "source": [
    "#Trainning model\n",
    "model.fit(X_train, Y_train)"
   ]
  },
  {
   "cell_type": "markdown",
   "metadata": {},
   "source": [
    "### 5. Test your model\n",
    "Report the f1 score, precision and recall for each output category of the dataset. You can do this by iterating through the columns and calling sklearn's `classification_report` on each."
   ]
  },
  {
   "cell_type": "code",
   "execution_count": 7,
   "metadata": {},
   "outputs": [],
   "source": [
    "#Saving column names in target value\n",
    "target = y.columns.values.astype('str')"
   ]
  },
  {
   "cell_type": "code",
   "execution_count": 8,
   "metadata": {},
   "outputs": [
    {
     "name": "stdout",
     "output_type": "stream",
     "text": [
      "                        precision    recall  f1-score   support\n",
      "\n",
      "               related       0.82      0.94      0.88      4952\n",
      "               request       0.85      0.40      0.54      1122\n",
      "                 offer       0.00      0.00      0.00        37\n",
      "           aid_related       0.75      0.52      0.62      2705\n",
      "          medical_help       0.62      0.06      0.11       515\n",
      "      medical_products       0.63      0.06      0.11       302\n",
      "     search_and_rescue       0.50      0.03      0.06       192\n",
      "              security       0.50      0.01      0.02       111\n",
      "              military       0.53      0.05      0.08       221\n",
      "                 water       0.80      0.33      0.47       422\n",
      "                  food       0.81      0.31      0.44       745\n",
      "               shelter       0.85      0.23      0.36       564\n",
      "              clothing       0.50      0.05      0.09        96\n",
      "                 money       0.83      0.04      0.07       140\n",
      "        missing_people       0.50      0.01      0.02        80\n",
      "              refugees       0.62      0.05      0.08       222\n",
      "                 death       0.88      0.15      0.26       294\n",
      "             other_aid       0.56      0.04      0.07       856\n",
      "infrastructure_related       0.12      0.00      0.00       431\n",
      "             transport       0.77      0.06      0.11       286\n",
      "             buildings       0.76      0.08      0.14       314\n",
      "           electricity       0.62      0.06      0.11       128\n",
      "                 tools       0.00      0.00      0.00        38\n",
      "             hospitals       0.00      0.00      0.00        73\n",
      "                 shops       0.00      0.00      0.00        29\n",
      "           aid_centers       0.00      0.00      0.00        78\n",
      "  other_infrastructure       0.50      0.01      0.01       296\n",
      "       weather_related       0.85      0.52      0.64      1804\n",
      "                floods       0.95      0.27      0.42       541\n",
      "                 storm       0.74      0.36      0.49       598\n",
      "                  fire       0.00      0.00      0.00        70\n",
      "            earthquake       0.93      0.45      0.60       598\n",
      "                  cold       0.63      0.12      0.20       139\n",
      "         other_weather       0.27      0.01      0.02       342\n",
      "         direct_report       0.78      0.35      0.48      1245\n",
      "\n",
      "           avg / total       0.74      0.45      0.51     20586\n",
      "\n"
     ]
    },
    {
     "name": "stderr",
     "output_type": "stream",
     "text": [
      "/opt/conda/lib/python3.6/site-packages/sklearn/metrics/classification.py:1135: UndefinedMetricWarning: Precision and F-score are ill-defined and being set to 0.0 in labels with no predicted samples.\n",
      "  'precision', 'predicted', average, warn_for)\n"
     ]
    }
   ],
   "source": [
    "#Predicting\n",
    "y_pred = model.predict(X_test) \n",
    "print(classification_report(Y_test.values, y_pred, target_names=target))"
   ]
  },
  {
   "cell_type": "markdown",
   "metadata": {},
   "source": [
    "### 6. Improve your model\n",
    "Use grid search to find better parameters. "
   ]
  },
  {
   "cell_type": "code",
   "execution_count": 9,
   "metadata": {},
   "outputs": [
    {
     "data": {
      "text/plain": [
       "{'memory': None,\n",
       " 'steps': [('vect',\n",
       "   CountVectorizer(analyzer='word', binary=False, decode_error='strict',\n",
       "           dtype=<class 'numpy.int64'>, encoding='utf-8', input='content',\n",
       "           lowercase=True, max_df=1.0, max_features=None, min_df=1,\n",
       "           ngram_range=(1, 1), preprocessor=None, stop_words=None,\n",
       "           strip_accents=None, token_pattern='(?u)\\\\b\\\\w\\\\w+\\\\b',\n",
       "           tokenizer=<function tokenize at 0x7f72e6669620>, vocabulary=None)),\n",
       "  ('tfidf',\n",
       "   TfidfTransformer(norm='l2', smooth_idf=True, sublinear_tf=False, use_idf=True)),\n",
       "  ('rfc',\n",
       "   MultiOutputClassifier(estimator=RandomForestClassifier(bootstrap=True, class_weight=None, criterion='gini',\n",
       "               max_depth=None, max_features='auto', max_leaf_nodes=None,\n",
       "               min_impurity_decrease=0.0, min_impurity_split=None,\n",
       "               min_samples_leaf=1, min_samples_split=2,\n",
       "               min_weight_fraction_leaf=0.0, n_estimators=10, n_jobs=1,\n",
       "               oob_score=False, random_state=None, verbose=0,\n",
       "               warm_start=False),\n",
       "              n_jobs=1))],\n",
       " 'vect': CountVectorizer(analyzer='word', binary=False, decode_error='strict',\n",
       "         dtype=<class 'numpy.int64'>, encoding='utf-8', input='content',\n",
       "         lowercase=True, max_df=1.0, max_features=None, min_df=1,\n",
       "         ngram_range=(1, 1), preprocessor=None, stop_words=None,\n",
       "         strip_accents=None, token_pattern='(?u)\\\\b\\\\w\\\\w+\\\\b',\n",
       "         tokenizer=<function tokenize at 0x7f72e6669620>, vocabulary=None),\n",
       " 'tfidf': TfidfTransformer(norm='l2', smooth_idf=True, sublinear_tf=False, use_idf=True),\n",
       " 'rfc': MultiOutputClassifier(estimator=RandomForestClassifier(bootstrap=True, class_weight=None, criterion='gini',\n",
       "             max_depth=None, max_features='auto', max_leaf_nodes=None,\n",
       "             min_impurity_decrease=0.0, min_impurity_split=None,\n",
       "             min_samples_leaf=1, min_samples_split=2,\n",
       "             min_weight_fraction_leaf=0.0, n_estimators=10, n_jobs=1,\n",
       "             oob_score=False, random_state=None, verbose=0,\n",
       "             warm_start=False),\n",
       "            n_jobs=1),\n",
       " 'vect__analyzer': 'word',\n",
       " 'vect__binary': False,\n",
       " 'vect__decode_error': 'strict',\n",
       " 'vect__dtype': numpy.int64,\n",
       " 'vect__encoding': 'utf-8',\n",
       " 'vect__input': 'content',\n",
       " 'vect__lowercase': True,\n",
       " 'vect__max_df': 1.0,\n",
       " 'vect__max_features': None,\n",
       " 'vect__min_df': 1,\n",
       " 'vect__ngram_range': (1, 1),\n",
       " 'vect__preprocessor': None,\n",
       " 'vect__stop_words': None,\n",
       " 'vect__strip_accents': None,\n",
       " 'vect__token_pattern': '(?u)\\\\b\\\\w\\\\w+\\\\b',\n",
       " 'vect__tokenizer': <function __main__.tokenize(text)>,\n",
       " 'vect__vocabulary': None,\n",
       " 'tfidf__norm': 'l2',\n",
       " 'tfidf__smooth_idf': True,\n",
       " 'tfidf__sublinear_tf': False,\n",
       " 'tfidf__use_idf': True,\n",
       " 'rfc__estimator__bootstrap': True,\n",
       " 'rfc__estimator__class_weight': None,\n",
       " 'rfc__estimator__criterion': 'gini',\n",
       " 'rfc__estimator__max_depth': None,\n",
       " 'rfc__estimator__max_features': 'auto',\n",
       " 'rfc__estimator__max_leaf_nodes': None,\n",
       " 'rfc__estimator__min_impurity_decrease': 0.0,\n",
       " 'rfc__estimator__min_impurity_split': None,\n",
       " 'rfc__estimator__min_samples_leaf': 1,\n",
       " 'rfc__estimator__min_samples_split': 2,\n",
       " 'rfc__estimator__min_weight_fraction_leaf': 0.0,\n",
       " 'rfc__estimator__n_estimators': 10,\n",
       " 'rfc__estimator__n_jobs': 1,\n",
       " 'rfc__estimator__oob_score': False,\n",
       " 'rfc__estimator__random_state': None,\n",
       " 'rfc__estimator__verbose': 0,\n",
       " 'rfc__estimator__warm_start': False,\n",
       " 'rfc__estimator': RandomForestClassifier(bootstrap=True, class_weight=None, criterion='gini',\n",
       "             max_depth=None, max_features='auto', max_leaf_nodes=None,\n",
       "             min_impurity_decrease=0.0, min_impurity_split=None,\n",
       "             min_samples_leaf=1, min_samples_split=2,\n",
       "             min_weight_fraction_leaf=0.0, n_estimators=10, n_jobs=1,\n",
       "             oob_score=False, random_state=None, verbose=0,\n",
       "             warm_start=False),\n",
       " 'rfc__n_jobs': 1}"
      ]
     },
     "execution_count": 9,
     "metadata": {},
     "output_type": "execute_result"
    }
   ],
   "source": [
    "#Looking for model parameters\n",
    "pipeline.get_params()"
   ]
  },
  {
   "cell_type": "code",
   "execution_count": 10,
   "metadata": {},
   "outputs": [],
   "source": [
    "#Using gridsearch to tune the model\n",
    "parameters = {  \n",
    "    'rfc__estimator__max_depth': [None, 5, 10],\n",
    "    'rfc__estimator__max_features': ['sqrt','log2']\n",
    "} \n",
    "\n",
    "cv = GridSearchCV(pipeline, param_grid=parameters)\n",
    "cv.fit(X_train, Y_train)\n",
    "y_pred_test = cv.predict(X_test)\n"
   ]
  },
  {
   "cell_type": "markdown",
   "metadata": {},
   "source": [
    "### 7. Test your model\n",
    "Show the accuracy, precision, and recall of the tuned model.  \n",
    "\n",
    "Since this project focuses on code quality, process, and  pipelines, there is no minimum performance metric needed to pass. However, make sure to fine tune your models for accuracy, precision and recall to make your project stand out - especially for your portfolio!"
   ]
  },
  {
   "cell_type": "code",
   "execution_count": 11,
   "metadata": {},
   "outputs": [
    {
     "name": "stdout",
     "output_type": "stream",
     "text": [
      "                        precision    recall  f1-score   support\n",
      "\n",
      "               related       0.81      0.94      0.87      4952\n",
      "               request       0.81      0.38      0.52      1122\n",
      "                 offer       0.00      0.00      0.00        37\n",
      "           aid_related       0.74      0.51      0.60      2705\n",
      "          medical_help       0.58      0.09      0.15       515\n",
      "      medical_products       0.68      0.09      0.16       302\n",
      "     search_and_rescue       0.67      0.03      0.06       192\n",
      "              security       0.50      0.01      0.02       111\n",
      "              military       0.64      0.06      0.12       221\n",
      "                 water       0.85      0.25      0.38       422\n",
      "                  food       0.84      0.32      0.46       745\n",
      "               shelter       0.89      0.19      0.31       564\n",
      "              clothing       0.43      0.03      0.06        96\n",
      "                 money       1.00      0.03      0.06       140\n",
      "        missing_people       0.57      0.05      0.09        80\n",
      "              refugees       0.58      0.03      0.06       222\n",
      "                 death       0.74      0.09      0.16       294\n",
      "             other_aid       0.45      0.04      0.07       856\n",
      "infrastructure_related       0.55      0.01      0.03       431\n",
      "             transport       0.68      0.05      0.09       286\n",
      "             buildings       0.76      0.10      0.18       314\n",
      "           electricity       0.78      0.05      0.10       128\n",
      "                 tools       0.00      0.00      0.00        38\n",
      "             hospitals       0.00      0.00      0.00        73\n",
      "                 shops       0.00      0.00      0.00        29\n",
      "           aid_centers       0.00      0.00      0.00        78\n",
      "  other_infrastructure       0.00      0.00      0.00       296\n",
      "       weather_related       0.84      0.50      0.63      1804\n",
      "                floods       0.92      0.33      0.48       541\n",
      "                 storm       0.72      0.30      0.42       598\n",
      "                  fire       1.00      0.04      0.08        70\n",
      "            earthquake       0.90      0.63      0.74       598\n",
      "                  cold       0.47      0.06      0.10       139\n",
      "         other_weather       0.54      0.04      0.08       342\n",
      "         direct_report       0.78      0.34      0.48      1245\n",
      "\n",
      "           avg / total       0.74      0.45      0.50     20586\n",
      "\n"
     ]
    },
    {
     "name": "stderr",
     "output_type": "stream",
     "text": [
      "/opt/conda/lib/python3.6/site-packages/sklearn/metrics/classification.py:1135: UndefinedMetricWarning: Precision and F-score are ill-defined and being set to 0.0 in labels with no predicted samples.\n",
      "  'precision', 'predicted', average, warn_for)\n"
     ]
    }
   ],
   "source": [
    "print(classification_report(Y_test.values, y_pred_test, target_names=target))"
   ]
  },
  {
   "cell_type": "markdown",
   "metadata": {},
   "source": [
    "### 8. Try improving your model further. Here are a few ideas:\n",
    "* try other machine learning algorithms\n",
    "* add other features besides the TF-IDF"
   ]
  },
  {
   "cell_type": "code",
   "execution_count": 12,
   "metadata": {},
   "outputs": [],
   "source": [
    "#Using DecisionTreeClassifier as estimator\n",
    "pipeline_v2 = Pipeline([\n",
    "    ('vect', CountVectorizer(tokenizer=tokenize)),\n",
    "    ('tfidf', TfidfTransformer()),\n",
    "    ('dtc', MultiOutputClassifier(DecisionTreeClassifier()))])"
   ]
  },
  {
   "cell_type": "code",
   "execution_count": 13,
   "metadata": {},
   "outputs": [
    {
     "name": "stdout",
     "output_type": "stream",
     "text": [
      "                        precision    recall  f1-score   support\n",
      "\n",
      "               related       0.83      0.86      0.85      4952\n",
      "               request       0.58      0.58      0.58      1122\n",
      "                 offer       0.05      0.03      0.03        37\n",
      "           aid_related       0.64      0.63      0.63      2705\n",
      "          medical_help       0.36      0.31      0.33       515\n",
      "      medical_products       0.37      0.36      0.36       302\n",
      "     search_and_rescue       0.28      0.18      0.22       192\n",
      "              security       0.09      0.09      0.09       111\n",
      "              military       0.36      0.38      0.37       221\n",
      "                 water       0.65      0.66      0.65       422\n",
      "                  food       0.72      0.69      0.71       745\n",
      "               shelter       0.61      0.60      0.60       564\n",
      "              clothing       0.54      0.48      0.51        96\n",
      "                 money       0.32      0.30      0.31       140\n",
      "        missing_people       0.24      0.20      0.22        80\n",
      "              refugees       0.36      0.28      0.32       222\n",
      "                 death       0.52      0.48      0.50       294\n",
      "             other_aid       0.31      0.27      0.29       856\n",
      "infrastructure_related       0.17      0.14      0.15       431\n",
      "             transport       0.27      0.25      0.26       286\n",
      "             buildings       0.42      0.41      0.42       314\n",
      "           electricity       0.40      0.38      0.39       128\n",
      "                 tools       0.03      0.03      0.03        38\n",
      "             hospitals       0.13      0.08      0.10        73\n",
      "                 shops       0.00      0.00      0.00        29\n",
      "           aid_centers       0.12      0.12      0.12        78\n",
      "  other_infrastructure       0.18      0.14      0.15       296\n",
      "       weather_related       0.73      0.72      0.72      1804\n",
      "                floods       0.60      0.54      0.57       541\n",
      "                 storm       0.66      0.65      0.66       598\n",
      "                  fire       0.42      0.23      0.30        70\n",
      "            earthquake       0.80      0.78      0.79       598\n",
      "                  cold       0.44      0.42      0.43       139\n",
      "         other_weather       0.26      0.22      0.23       342\n",
      "         direct_report       0.52      0.53      0.53      1245\n",
      "\n",
      "           avg / total       0.60      0.60      0.60     20586\n",
      "\n"
     ]
    }
   ],
   "source": [
    "#f1-score results are better using DecisionTreeClassifier rather than RandomForestClassifier.\n",
    "#DecisionTreeClassifier will be used for the rest of the project\n",
    "model_v2 = pipeline_v2\n",
    "model_v2.fit(X_train, Y_train)\n",
    "y_pred_test_v2 = model_v2.predict(X_test)\n",
    "print(classification_report(Y_test.values, y_pred_test_v2, target_names=target))"
   ]
  },
  {
   "cell_type": "markdown",
   "metadata": {},
   "source": [
    "### 9. Export your model as a pickle file"
   ]
  },
  {
   "cell_type": "code",
   "execution_count": 14,
   "metadata": {},
   "outputs": [],
   "source": [
    "#Exporting model\n",
    "import pickle\n",
    "pickle.dump(model_v2, open('model.pkl','wb'))\n"
   ]
  },
  {
   "cell_type": "markdown",
   "metadata": {},
   "source": [
    "### 10. Use this notebook to complete `train.py`\n",
    "Use the template file attached in the Resources folder to write a script that runs the steps above to create a database and export a model based on a new dataset specified by the user."
   ]
  },
  {
   "cell_type": "code",
   "execution_count": null,
   "metadata": {},
   "outputs": [],
   "source": []
  }
 ],
 "metadata": {
  "kernelspec": {
   "display_name": "Python 3",
   "language": "python",
   "name": "python3"
  },
  "language_info": {
   "codemirror_mode": {
    "name": "ipython",
    "version": 3
   },
   "file_extension": ".py",
   "mimetype": "text/x-python",
   "name": "python",
   "nbconvert_exporter": "python",
   "pygments_lexer": "ipython3",
   "version": "3.6.3"
  }
 },
 "nbformat": 4,
 "nbformat_minor": 2
}
